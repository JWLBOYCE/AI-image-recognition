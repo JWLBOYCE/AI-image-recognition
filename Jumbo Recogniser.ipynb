{
 "cells": [
  {
   "cell_type": "code",
   "execution_count": 1,
   "metadata": {},
   "outputs": [],
   "source": [
    "!pip install -Uqq fastbook"
   ]
  },
  {
   "cell_type": "code",
   "execution_count": 2,
   "metadata": {},
   "outputs": [
    {
     "name": "stderr",
     "output_type": "stream",
     "text": [
      "/Users/jamesboyce/opt/anaconda3/lib/python3.8/site-packages/fastbook/__init__.py:22: UserWarning: Missing `graphviz` - please run `conda install fastbook`\n",
      "  except ModuleNotFoundError: warn(\"Missing `graphviz` - please run `conda install fastbook`\")\n"
     ]
    }
   ],
   "source": [
    "import fastbook"
   ]
  },
  {
   "cell_type": "code",
   "execution_count": 3,
   "metadata": {},
   "outputs": [],
   "source": [
    "fastbook.setup_book()"
   ]
  },
  {
   "cell_type": "code",
   "execution_count": 4,
   "metadata": {},
   "outputs": [],
   "source": [
    "from fastbook import *\n",
    "from fastai.vision.widgets import *"
   ]
  },
  {
   "cell_type": "code",
   "execution_count": 5,
   "metadata": {},
   "outputs": [],
   "source": [
    "key = os.environ.get('AZURE_SEARCH_KEY', 'ENTER KEY' )"
   ]
  },
  {
   "cell_type": "code",
   "execution_count": 6,
   "metadata": {},
   "outputs": [
    {
     "data": {
      "text/plain": [
       "150"
      ]
     },
     "execution_count": 6,
     "metadata": {},
     "output_type": "execute_result"
    }
   ],
   "source": [
    "results = search_images_bing(key, \"Boeing 747\")\n",
    "ims = results.attrgot('content_url')\n",
    "len(ims)"
   ]
  },
  {
   "cell_type": "code",
   "execution_count": 7,
   "metadata": {},
   "outputs": [
    {
     "data": {
      "text/plain": [
       "(#150) ['http://static3.businessinsider.com/image/58a712385490571c008b54da-1581/unitedboeing747livery2.jpg','https://upload.wikimedia.org/wikipedia/commons/thumb/4/40/Pan_Am_Boeing_747-121_N732PA_Bidini.jpg/1200px-Pan_Am_Boeing_747-121_N732PA_Bidini.jpg','https://upload.wikimedia.org/wikipedia/commons/thumb/2/27/Lufthansa_Boeing_747-8_%2816093562187%29.jpg/1200px-Lufthansa_Boeing_747-8_%2816093562187%29.jpg','https://upload.wikimedia.org/wikipedia/commons/thumb/8/88/Lufthansa_Boeing_747-8_%2816278574162%29.jpg/1200px-Lufthansa_Boeing_747-8_%2816278574162%29.jpg','https://airwingmedia.com/wp-content/uploads/2014/10/Boeing-747-121_P2B.jpg','https://airlinegeeks.com/wp-content/uploads/2017/02/DSC_0953.jpg.jpeg','https://upload.wikimedia.org/wikipedia/commons/3/33/Boeing_747-8_first_flight_Everett%2C_WA.jpg','http://airplanes.itsabouttravelling.com/wp-content/uploads/2017/03/d-abvx-lufthansa-boeing-747-400-05.jpg','https://www.avm-mag.com/wp-content/uploads/2017/04/Air-China27s-Boeing-747-8.jpg','https://www.ainonline.com/sites/default/files/uploads/2013/06/lufthansa747-8.jpg'...]"
      ]
     },
     "execution_count": 7,
     "metadata": {},
     "output_type": "execute_result"
    }
   ],
   "source": [
    "ims"
   ]
  },
  {
   "cell_type": "code",
   "execution_count": 8,
   "metadata": {},
   "outputs": [],
   "source": [
    "dest = 'images/Jumbo.jpg'\n",
    "download_url(ims[0], dest)"
   ]
  },
  {
   "cell_type": "code",
   "execution_count": 9,
   "metadata": {},
   "outputs": [],
   "source": [
    "jumbo_types = '747-100', '747-200', '747-300','747-400','747-800'\n",
    "path = Path('Jumbos')"
   ]
  },
  {
   "cell_type": "code",
   "execution_count": 10,
   "metadata": {},
   "outputs": [],
   "source": [
    "if not path.exists():\n",
    "    path.mkdir()\n",
    "    for o in jumbo_types:\n",
    "        dest = (path/o)\n",
    "        dest.mkdir(exist_ok=True)\n",
    "        results = search_images_bing(key, f'{o}')\n",
    "        download_images(dest, \n",
    "urls=results.attrgot('content_url'))"
   ]
  },
  {
   "cell_type": "code",
   "execution_count": 11,
   "metadata": {},
   "outputs": [
    {
     "data": {
      "text/plain": [
       "(#0) []"
      ]
     },
     "execution_count": 11,
     "metadata": {},
     "output_type": "execute_result"
    }
   ],
   "source": [
    "fns = get_image_files(path)\n",
    "fns"
   ]
  },
  {
   "cell_type": "code",
   "execution_count": null,
   "metadata": {},
   "outputs": [],
   "source": []
  }
 ],
 "metadata": {
  "kernelspec": {
   "display_name": "Python 3",
   "language": "python",
   "name": "python3"
  },
  "language_info": {
   "codemirror_mode": {
    "name": "ipython",
    "version": 3
   },
   "file_extension": ".py",
   "mimetype": "text/x-python",
   "name": "python",
   "nbconvert_exporter": "python",
   "pygments_lexer": "ipython3",
   "version": "3.8.5"
  }
 },
 "nbformat": 4,
 "nbformat_minor": 4
}
